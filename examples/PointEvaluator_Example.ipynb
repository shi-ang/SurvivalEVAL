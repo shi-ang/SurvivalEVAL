{
 "cells": [
  {
   "cell_type": "markdown",
   "source": [
    "# Use SurvivalEVAL for models that only predicts times (until an event occurs)\n",
    "In this notebook, we will use the SurvivalEVAL package to evaluate the performance of a model that only predicts the time until an event occurs. \n",
    "\n",
    "We will use the censored support vector regressor (cSVR) model as an example. The cSVR model is a survival model that uses support vector machines to predict the time until an event occurs. The model is implemented in the `SciKit-Survival` package."
   ],
   "metadata": {
    "collapsed": false
   },
   "id": "f7c28a898aac809a"
  },
  {
   "cell_type": "code",
   "outputs": [],
   "source": [
    "## Import the necessary packages"
   ],
   "metadata": {
    "collapsed": false
   },
   "id": "2dfd37121cc79b95",
   "execution_count": null
  },
  {
   "cell_type": "code",
   "outputs": [],
   "source": [
    "import numpy as np\n",
    "import matplotlib.pyplot as plt\n",
    "\n",
    "from sksurv.datasets import load_gbsg2\n",
    "from sksurv.svm import FastKernelSurvivalSVM\n",
    "from sksurv.preprocessing import OneHotEncoder, encode_categorical\n",
    "from sksurv.metrics import check_y_survival\n",
    "\n",
    "from Evaluator import PointEvaluator"
   ],
   "metadata": {
    "collapsed": false
   },
   "id": "c8b47e797c69f1fa",
   "execution_count": null
  },
  {
   "cell_type": "code",
   "execution_count": null,
   "id": "initial_id",
   "metadata": {
    "collapsed": true
   },
   "outputs": [],
   "source": [
    "%matplotlib inline"
   ]
  },
  {
   "cell_type": "markdown",
   "source": [
    "## Load the dataset"
   ],
   "metadata": {
    "collapsed": false
   },
   "id": "36633fdf615d95a1"
  },
  {
   "cell_type": "code",
   "outputs": [],
   "source": [
    "X, y = load_gbsg2()\n",
    "Xt = encode_categorical(X)\n",
    "X.loc[:, \"tgrade\"] = X.loc[:, \"tgrade\"].map(len).astype(int)\n",
    "Xt = OneHotEncoder().fit_transform(X)"
   ],
   "metadata": {
    "collapsed": false
   },
   "id": "f1cdec492383e5b",
   "execution_count": null
  },
  {
   "cell_type": "code",
   "outputs": [],
   "source": [
    "n = len(Xt)\n",
    "\n",
    "tr_size = int(n*0.70)\n",
    "\n",
    "Xt_train, Xt_test = Xt.iloc[:tr_size, :], Xt.iloc[tr_size:, :]\n",
    "y_train, y_test = y[:tr_size], y[tr_size:]\n",
    "train_event_indicators, train_event_times = check_y_survival(y_train)\n",
    "test_event_indicators, test_event_times = check_y_survival(y_test)"
   ],
   "metadata": {
    "collapsed": false
   },
   "id": "afa0f3de01885c39",
   "execution_count": null
  },
  {
   "cell_type": "markdown",
   "source": [
    "## Build the model and train it"
   ],
   "metadata": {
    "collapsed": false
   },
   "id": "5f69bc478f34809"
  },
  {
   "cell_type": "code",
   "outputs": [],
   "source": [
    "cSVR = FastKernelSurvivalSVM().fit(Xt_train, y_train)"
   ],
   "metadata": {
    "collapsed": false
   },
   "id": "5e326abdaa902b5c",
   "execution_count": null
  },
  {
   "cell_type": "markdown",
   "source": [
    "## Predict the time until an event occurs"
   ],
   "metadata": {
    "collapsed": false
   },
   "id": "4220e3863d0b010a"
  },
  {
   "cell_type": "code",
   "outputs": [],
   "source": [
    "t_pred = cSVR.predict(Xt_test)"
   ],
   "metadata": {
    "collapsed": false
   },
   "id": "f5e4c0cf8cd65c07",
   "execution_count": null
  },
  {
   "cell_type": "markdown",
   "source": [
    "## Evaluate the model\n",
    "Some arguments includes:\n"
   ],
   "metadata": {
    "collapsed": false
   },
   "id": "4db094107b0b1fc4"
  },
  {
   "cell_type": "code",
   "outputs": [],
   "source": [
    "evaler = PointEvaluator(t_pred, test_event_times, test_event_indicators, train_event_times, train_event_indicators)"
   ],
   "metadata": {
    "collapsed": false
   },
   "id": "b42d9e2c5472f721",
   "execution_count": null
  }
 ],
 "metadata": {
  "kernelspec": {
   "display_name": "Python 3",
   "language": "python",
   "name": "python3"
  },
  "language_info": {
   "codemirror_mode": {
    "name": "ipython",
    "version": 2
   },
   "file_extension": ".py",
   "mimetype": "text/x-python",
   "name": "python",
   "nbconvert_exporter": "python",
   "pygments_lexer": "ipython2",
   "version": "2.7.6"
  }
 },
 "nbformat": 4,
 "nbformat_minor": 5
}
