{
 "cells": [
  {
   "cell_type": "markdown",
   "source": [
    "# Evaluation for Pycox model\n",
    "\n",
    "In this notebook we introduce the use of `PycoxEvaluator` in the package through an example dataset and a model.\n",
    "The first half of this notebook follows the procedure described in the Pycox [example](https://github.com/havakv/pycox/blob/master/examples/01_introduction.ipynb).\n",
    "\n",
    "In the following we will:\n",
    "\n",
    "1. Load the METABRIC survival dataset and create a `LogisticHazard` model;\n",
    "2. Train the model using training set;\n",
    "3. Evaluate the performance using the concordance index, Brier score, Integrated Brier score, L1 loss, 1-calibration, and D-calibration."
   ],
   "metadata": {
    "collapsed": false,
    "pycharm": {
     "name": "#%% md\n"
    }
   }
  },
  {
   "metadata": {
    "jupyter": {
     "is_executing": true
    }
   },
   "cell_type": "code",
   "source": [
    "!pip install pycox\n",
    "!pip install sklearn-pandas\n",
    "!pip install torchtuples"
   ],
   "outputs": [],
   "execution_count": null
  },
  {
   "cell_type": "markdown",
   "source": [
    "## Import Dependencies\n",
    "Note: You need `sklearn-pandas` for normalizing the data."
   ],
   "metadata": {
    "collapsed": false,
    "pycharm": {
     "name": "#%% md\n"
    }
   }
  },
  {
   "cell_type": "code",
   "metadata": {
    "collapsed": true,
    "ExecuteTime": {
     "end_time": "2025-02-24T21:07:36.029142Z",
     "start_time": "2025-02-24T21:07:34.112305Z"
    }
   },
   "source": [
    "import numpy as np\n",
    "import matplotlib.pyplot as plt\n",
    "\n",
    "# For preprocessing\n",
    "from sklearn.preprocessing import StandardScaler\n",
    "from sklearn_pandas import DataFrameMapper\n",
    "\n",
    "import torch # For building the networks\n",
    "import torchtuples as tt # Some useful functions\n",
    "\n",
    "from pycox.datasets import metabric\n",
    "from pycox.models import LogisticHazard\n",
    "\n",
    "from SurvivalEVAL import PycoxEvaluator"
   ],
   "outputs": [],
   "execution_count": 2
  },
  {
   "cell_type": "code",
   "source": [
    "%matplotlib inline"
   ],
   "metadata": {
    "collapsed": false,
    "pycharm": {
     "name": "#%%\n"
    },
    "ExecuteTime": {
     "end_time": "2025-02-24T21:07:39.807370Z",
     "start_time": "2025-02-24T21:07:39.801301Z"
    }
   },
   "outputs": [],
   "execution_count": 3
  },
  {
   "cell_type": "markdown",
   "source": [
    "## Load Dataset\n",
    "Set seed for torch and numpy for reproducibility"
   ],
   "metadata": {
    "collapsed": false,
    "pycharm": {
     "name": "#%% md\n"
    }
   }
  },
  {
   "cell_type": "code",
   "source": [
    "np.random.seed(1234)\n",
    "_ = torch.manual_seed(123)"
   ],
   "metadata": {
    "collapsed": false,
    "pycharm": {
     "name": "#%%\n"
    },
    "ExecuteTime": {
     "end_time": "2025-02-24T21:07:42.250293Z",
     "start_time": "2025-02-24T21:07:42.247512Z"
    }
   },
   "outputs": [],
   "execution_count": 4
  },
  {
   "cell_type": "markdown",
   "source": [
    "Load the dataset, split it into training (64%), validation (16%) and testing set (20%).\n",
    "Then standardize the covariates."
   ],
   "metadata": {
    "collapsed": false,
    "pycharm": {
     "name": "#%% md\n"
    }
   }
  },
  {
   "cell_type": "code",
   "source": [
    "df_train = metabric.read_df()\n",
    "df_test = df_train.sample(frac=0.2)\n",
    "df_train = df_train.drop(df_test.index)\n",
    "df_val = df_train.sample(frac=0.2)\n",
    "df_train = df_train.drop(df_val.index)\n",
    "\n",
    "cols_standardize = ['x0', 'x1', 'x2', 'x3', 'x8']\n",
    "cols_leave = ['x4', 'x5', 'x6', 'x7']\n",
    "\n",
    "standardize = [([col], StandardScaler()) for col in cols_standardize]\n",
    "leave = [(col, None) for col in cols_leave]\n",
    "\n",
    "x_mapper = DataFrameMapper(standardize + leave)\n",
    "\n",
    "x_train = x_mapper.fit_transform(df_train).astype('float32')\n",
    "x_val = x_mapper.transform(df_val).astype('float32')\n",
    "x_test = x_mapper.transform(df_test).astype('float32')"
   ],
   "metadata": {
    "collapsed": false,
    "pycharm": {
     "name": "#%%\n"
    },
    "ExecuteTime": {
     "end_time": "2025-02-24T21:07:44.737023Z",
     "start_time": "2025-02-24T21:07:44.721947Z"
    }
   },
   "outputs": [],
   "execution_count": 5
  },
  {
   "cell_type": "markdown",
   "source": [
    "## Build the model and train it."
   ],
   "metadata": {
    "collapsed": false,
    "pycharm": {
     "name": "#%% md\n"
    }
   }
  },
  {
   "cell_type": "code",
   "source": [
    "num_durations = 10\n",
    "\n",
    "labtrans = LogisticHazard.label_transform(num_durations)\n",
    "\n",
    "get_target = lambda df: (df['duration'].values, df['event'].values)\n",
    "y_train = labtrans.fit_transform(*get_target(df_train))\n",
    "y_val = labtrans.transform(*get_target(df_val))\n",
    "\n",
    "train = (x_train, y_train)\n",
    "val = (x_val, y_val)\n",
    "\n",
    "# We don't need to transform the test labels\n",
    "durations_test, events_test = get_target(df_test)\n",
    "durations_train, events_train = get_target(df_train)\n",
    "\n",
    "in_features = x_train.shape[1]\n",
    "num_nodes = [32, 32]\n",
    "out_features = labtrans.out_features\n",
    "batch_norm = True\n",
    "dropout = 0.1\n",
    "\n",
    "net = tt.practical.MLPVanilla(in_features, num_nodes, out_features, batch_norm, dropout)\n",
    "\n",
    "model = LogisticHazard(net, tt.optim.Adam(0.01), duration_index=labtrans.cuts)\n",
    "\n",
    "batch_size = 256\n",
    "epochs = 100\n",
    "callbacks = [tt.cb.EarlyStopping()]\n",
    "\n",
    "log = model.fit(x_train, y_train, batch_size, epochs, callbacks, val_data=val)"
   ],
   "metadata": {
    "collapsed": false,
    "pycharm": {
     "name": "#%%\n"
    },
    "ExecuteTime": {
     "end_time": "2025-02-24T21:07:50.190251Z",
     "start_time": "2025-02-24T21:07:49.384106Z"
    }
   },
   "outputs": [
    {
     "name": "stderr",
     "output_type": "stream",
     "text": [
      "/home/shiang/anaconda3/envs/SurvEVAL/lib/python3.11/site-packages/torch/cuda/__init__.py:129: UserWarning: CUDA initialization: The NVIDIA driver on your system is too old (found version 11040). Please update your GPU driver by downloading and installing a new version from the URL: http://www.nvidia.com/Download/index.aspx Alternatively, go to: https://pytorch.org to install a PyTorch version that has been compiled with your version of the CUDA driver. (Triggered internally at ../c10/cuda/CUDAFunctions.cpp:108.)\n",
      "  return torch._C._cuda_getDeviceCount() > 0\n"
     ]
    },
    {
     "name": "stdout",
     "output_type": "stream",
     "text": [
      "0:\t[0s / 0s],\t\ttrain_loss: 2.9263,\tval_loss: 2.7659\n",
      "1:\t[0s / 0s],\t\ttrain_loss: 2.6603,\tval_loss: 2.5461\n",
      "2:\t[0s / 0s],\t\ttrain_loss: 2.3791,\tval_loss: 2.2354\n",
      "3:\t[0s / 0s],\t\ttrain_loss: 2.0756,\tval_loss: 1.9005\n",
      "4:\t[0s / 0s],\t\ttrain_loss: 1.7898,\tval_loss: 1.5965\n",
      "5:\t[0s / 0s],\t\ttrain_loss: 1.5691,\tval_loss: 1.4399\n",
      "6:\t[0s / 0s],\t\ttrain_loss: 1.4533,\tval_loss: 1.3834\n",
      "7:\t[0s / 0s],\t\ttrain_loss: 1.4080,\tval_loss: 1.3732\n",
      "8:\t[0s / 0s],\t\ttrain_loss: 1.3977,\tval_loss: 1.3749\n",
      "9:\t[0s / 0s],\t\ttrain_loss: 1.3683,\tval_loss: 1.3710\n",
      "10:\t[0s / 0s],\t\ttrain_loss: 1.3406,\tval_loss: 1.3672\n",
      "11:\t[0s / 0s],\t\ttrain_loss: 1.3476,\tval_loss: 1.3632\n",
      "12:\t[0s / 0s],\t\ttrain_loss: 1.3404,\tval_loss: 1.3599\n",
      "13:\t[0s / 0s],\t\ttrain_loss: 1.3284,\tval_loss: 1.3536\n",
      "14:\t[0s / 0s],\t\ttrain_loss: 1.3253,\tval_loss: 1.3544\n",
      "15:\t[0s / 0s],\t\ttrain_loss: 1.3170,\tval_loss: 1.3566\n",
      "16:\t[0s / 0s],\t\ttrain_loss: 1.3101,\tval_loss: 1.3618\n",
      "17:\t[0s / 0s],\t\ttrain_loss: 1.3191,\tval_loss: 1.3643\n",
      "18:\t[0s / 0s],\t\ttrain_loss: 1.2992,\tval_loss: 1.3638\n",
      "19:\t[0s / 0s],\t\ttrain_loss: 1.2867,\tval_loss: 1.3570\n",
      "20:\t[0s / 0s],\t\ttrain_loss: 1.2903,\tval_loss: 1.3649\n",
      "21:\t[0s / 0s],\t\ttrain_loss: 1.2903,\tval_loss: 1.3677\n",
      "22:\t[0s / 0s],\t\ttrain_loss: 1.2833,\tval_loss: 1.3673\n",
      "23:\t[0s / 0s],\t\ttrain_loss: 1.2822,\tval_loss: 1.3744\n"
     ]
    },
    {
     "name": "stderr",
     "output_type": "stream",
     "text": [
      "/home/shiang/anaconda3/envs/SurvEVAL/lib/python3.11/site-packages/torchtuples/base.py:669: FutureWarning: You are using `torch.load` with `weights_only=False` (the current default value), which uses the default pickle module implicitly. It is possible to construct malicious pickle data which will execute arbitrary code during unpickling (See https://github.com/pytorch/pytorch/blob/main/SECURITY.md#untrusted-models for more details). In a future release, the default value for `weights_only` will be flipped to `True`. This limits the functions that could be executed during unpickling. Arbitrary objects will no longer be allowed to be loaded via this mode unless they are explicitly allowlisted by the user via `torch.serialization.add_safe_globals`. We recommend you start setting `weights_only=True` for any use case where you don't have full control of the loaded file. Please open an issue on GitHub for any issues related to this experimental feature.\n",
      "  self.net.load_state_dict(torch.load(path, **kwargs))\n"
     ]
    }
   ],
   "execution_count": 6
  },
  {
   "cell_type": "markdown",
   "source": [
    "## Make the prediction.\n",
    "`surv` is a Dataframe object. Row index represents the time coordinates, and each column represents a survival curve of one patient."
   ],
   "metadata": {
    "collapsed": false,
    "pycharm": {
     "name": "#%% md\n"
    }
   }
  },
  {
   "cell_type": "code",
   "source": [
    "surv = model.interpolate(10).predict_surv_df(x_test)\n",
    "surv.head(20)"
   ],
   "metadata": {
    "collapsed": false,
    "pycharm": {
     "name": "#%%\n"
    },
    "ExecuteTime": {
     "end_time": "2025-02-24T21:09:04.391326Z",
     "start_time": "2025-02-24T21:09:04.330373Z"
    }
   },
   "outputs": [
    {
     "data": {
      "text/plain": [
       "                0         1         2         3         4         5    \\\n",
       "0.000000   0.993047  0.996519  0.979841  0.994583  0.997945  0.994696   \n",
       "3.946667   0.980414  0.967115  0.969238  0.985821  0.980633  0.988882   \n",
       "7.893333   0.967781  0.937710  0.958635  0.977059  0.963321  0.983068   \n",
       "11.840000  0.955148  0.908305  0.948032  0.968297  0.946008  0.977254   \n",
       "15.786667  0.942514  0.878900  0.937429  0.959535  0.928696  0.971440   \n",
       "19.733334  0.929881  0.849495  0.926826  0.950773  0.911384  0.965626   \n",
       "23.680000  0.917248  0.820090  0.916223  0.942011  0.894072  0.959812   \n",
       "27.626667  0.904615  0.790686  0.905620  0.933249  0.876760  0.953998   \n",
       "31.573334  0.891981  0.761281  0.895018  0.924487  0.859448  0.948184   \n",
       "35.520000  0.879348  0.731876  0.884415  0.915725  0.842136  0.942370   \n",
       "39.466667  0.866715  0.702471  0.873812  0.906963  0.824823  0.936556   \n",
       "43.413334  0.837380  0.684789  0.857412  0.892482  0.802181  0.921265   \n",
       "47.360001  0.808046  0.667107  0.841011  0.878001  0.779539  0.905975   \n",
       "51.306667  0.778711  0.649425  0.824611  0.863521  0.756897  0.890684   \n",
       "55.253334  0.749376  0.631743  0.808211  0.849040  0.734254  0.875394   \n",
       "59.200001  0.720042  0.614061  0.791811  0.834560  0.711612  0.860103   \n",
       "63.146667  0.690707  0.596379  0.775410  0.820079  0.688970  0.844812   \n",
       "67.093338  0.661373  0.578697  0.759010  0.805599  0.666327  0.829522   \n",
       "71.040001  0.632038  0.561015  0.742610  0.791118  0.643685  0.814231   \n",
       "74.986664  0.602703  0.543333  0.726210  0.776638  0.621043  0.798941   \n",
       "\n",
       "                6         7         8         9    ...       371       372  \\\n",
       "0.000000   0.998212  0.998118  0.998652  0.997525  ...  0.996131  0.994828   \n",
       "3.946667   0.996073  0.996754  0.975153  0.949467  ...  0.985843  0.968926   \n",
       "7.893333   0.993933  0.995391  0.951655  0.901408  ...  0.975555  0.943025   \n",
       "11.840000  0.991794  0.994028  0.928156  0.853350  ...  0.965267  0.917123   \n",
       "15.786667  0.989654  0.992664  0.904657  0.805291  ...  0.954979  0.891222   \n",
       "19.733334  0.987515  0.991301  0.881159  0.757233  ...  0.944691  0.865320   \n",
       "23.680000  0.985375  0.989938  0.857660  0.709175  ...  0.934403  0.839419   \n",
       "27.626667  0.983236  0.988574  0.834161  0.661116  ...  0.924115  0.813517   \n",
       "31.573334  0.981097  0.987211  0.810662  0.613058  ...  0.913827  0.787615   \n",
       "35.520000  0.978957  0.985848  0.787164  0.565000  ...  0.903539  0.761714   \n",
       "39.466667  0.976818  0.984484  0.763665  0.516941  ...  0.893251  0.735812   \n",
       "43.413334  0.972166  0.981434  0.723064  0.496069  ...  0.883660  0.709258   \n",
       "47.360001  0.967515  0.978383  0.682463  0.475197  ...  0.874069  0.682704   \n",
       "51.306667  0.962863  0.975333  0.641861  0.454325  ...  0.864478  0.656150   \n",
       "55.253334  0.958212  0.972282  0.601260  0.433452  ...  0.854886  0.629597   \n",
       "59.200001  0.953560  0.969231  0.560659  0.412580  ...  0.845295  0.603043   \n",
       "63.146667  0.948909  0.966181  0.520058  0.391708  ...  0.835704  0.576489   \n",
       "67.093338  0.944257  0.963130  0.479457  0.370836  ...  0.826113  0.549935   \n",
       "71.040001  0.939605  0.960080  0.438856  0.349964  ...  0.816522  0.523381   \n",
       "74.986664  0.934954  0.957029  0.398254  0.329091  ...  0.806931  0.496827   \n",
       "\n",
       "                373       374       375       376       377       378  \\\n",
       "0.000000   0.994968  0.997436  0.995227  0.995589  0.997314  0.998562   \n",
       "3.946667   0.984651  0.995072  0.986154  0.985549  0.987054  0.974574   \n",
       "7.893333   0.974333  0.992708  0.977082  0.975509  0.976794  0.950587   \n",
       "11.840000  0.964016  0.990344  0.968010  0.965469  0.966534  0.926599   \n",
       "15.786667  0.953699  0.987980  0.958938  0.955430  0.956274  0.902612   \n",
       "19.733334  0.943382  0.985616  0.949866  0.945390  0.946014  0.878624   \n",
       "23.680000  0.933064  0.983252  0.940793  0.935350  0.935754  0.854637   \n",
       "27.626667  0.922747  0.980888  0.931721  0.925310  0.925493  0.830649   \n",
       "31.573334  0.912430  0.978524  0.922649  0.915270  0.915233  0.806662   \n",
       "35.520000  0.902112  0.976160  0.913577  0.905230  0.904974  0.782674   \n",
       "39.466667  0.891795  0.973796  0.904505  0.895190  0.894713  0.758687   \n",
       "43.413334  0.879046  0.964086  0.887811  0.885891  0.874018  0.707950   \n",
       "47.360001  0.866297  0.954376  0.871116  0.876592  0.853322  0.657214   \n",
       "51.306667  0.853548  0.944666  0.854422  0.867293  0.832626  0.606477   \n",
       "55.253334  0.840799  0.934957  0.837728  0.857994  0.811930  0.555740   \n",
       "59.200001  0.828050  0.925247  0.821034  0.848695  0.791235  0.505004   \n",
       "63.146667  0.815301  0.915537  0.804340  0.839396  0.770539  0.454267   \n",
       "67.093338  0.802552  0.905828  0.787646  0.830097  0.749843  0.403531   \n",
       "71.040001  0.789803  0.896118  0.770952  0.820798  0.729147  0.352794   \n",
       "74.986664  0.777054  0.886408  0.754257  0.811499  0.708451  0.302058   \n",
       "\n",
       "                379       380  \n",
       "0.000000   0.988151  0.995715  \n",
       "3.946667   0.952083  0.977953  \n",
       "7.893333   0.916014  0.960190  \n",
       "11.840000  0.879946  0.942428  \n",
       "15.786667  0.843878  0.924666  \n",
       "19.733334  0.807809  0.906904  \n",
       "23.680000  0.771741  0.889141  \n",
       "27.626667  0.735672  0.871379  \n",
       "31.573334  0.699604  0.853617  \n",
       "35.520000  0.663535  0.835855  \n",
       "39.466667  0.627467  0.818092  \n",
       "43.413334  0.605094  0.796469  \n",
       "47.360001  0.582722  0.774846  \n",
       "51.306667  0.560350  0.753222  \n",
       "55.253334  0.537978  0.731599  \n",
       "59.200001  0.515605  0.709975  \n",
       "63.146667  0.493233  0.688352  \n",
       "67.093338  0.470861  0.666729  \n",
       "71.040001  0.448488  0.645105  \n",
       "74.986664  0.426116  0.623482  \n",
       "\n",
       "[20 rows x 381 columns]"
      ],
      "text/html": [
       "<div>\n",
       "<style scoped>\n",
       "    .dataframe tbody tr th:only-of-type {\n",
       "        vertical-align: middle;\n",
       "    }\n",
       "\n",
       "    .dataframe tbody tr th {\n",
       "        vertical-align: top;\n",
       "    }\n",
       "\n",
       "    .dataframe thead th {\n",
       "        text-align: right;\n",
       "    }\n",
       "</style>\n",
       "<table border=\"1\" class=\"dataframe\">\n",
       "  <thead>\n",
       "    <tr style=\"text-align: right;\">\n",
       "      <th></th>\n",
       "      <th>0</th>\n",
       "      <th>1</th>\n",
       "      <th>2</th>\n",
       "      <th>3</th>\n",
       "      <th>4</th>\n",
       "      <th>5</th>\n",
       "      <th>6</th>\n",
       "      <th>7</th>\n",
       "      <th>8</th>\n",
       "      <th>9</th>\n",
       "      <th>...</th>\n",
       "      <th>371</th>\n",
       "      <th>372</th>\n",
       "      <th>373</th>\n",
       "      <th>374</th>\n",
       "      <th>375</th>\n",
       "      <th>376</th>\n",
       "      <th>377</th>\n",
       "      <th>378</th>\n",
       "      <th>379</th>\n",
       "      <th>380</th>\n",
       "    </tr>\n",
       "  </thead>\n",
       "  <tbody>\n",
       "    <tr>\n",
       "      <th>0.000000</th>\n",
       "      <td>0.993047</td>\n",
       "      <td>0.996519</td>\n",
       "      <td>0.979841</td>\n",
       "      <td>0.994583</td>\n",
       "      <td>0.997945</td>\n",
       "      <td>0.994696</td>\n",
       "      <td>0.998212</td>\n",
       "      <td>0.998118</td>\n",
       "      <td>0.998652</td>\n",
       "      <td>0.997525</td>\n",
       "      <td>...</td>\n",
       "      <td>0.996131</td>\n",
       "      <td>0.994828</td>\n",
       "      <td>0.994968</td>\n",
       "      <td>0.997436</td>\n",
       "      <td>0.995227</td>\n",
       "      <td>0.995589</td>\n",
       "      <td>0.997314</td>\n",
       "      <td>0.998562</td>\n",
       "      <td>0.988151</td>\n",
       "      <td>0.995715</td>\n",
       "    </tr>\n",
       "    <tr>\n",
       "      <th>3.946667</th>\n",
       "      <td>0.980414</td>\n",
       "      <td>0.967115</td>\n",
       "      <td>0.969238</td>\n",
       "      <td>0.985821</td>\n",
       "      <td>0.980633</td>\n",
       "      <td>0.988882</td>\n",
       "      <td>0.996073</td>\n",
       "      <td>0.996754</td>\n",
       "      <td>0.975153</td>\n",
       "      <td>0.949467</td>\n",
       "      <td>...</td>\n",
       "      <td>0.985843</td>\n",
       "      <td>0.968926</td>\n",
       "      <td>0.984651</td>\n",
       "      <td>0.995072</td>\n",
       "      <td>0.986154</td>\n",
       "      <td>0.985549</td>\n",
       "      <td>0.987054</td>\n",
       "      <td>0.974574</td>\n",
       "      <td>0.952083</td>\n",
       "      <td>0.977953</td>\n",
       "    </tr>\n",
       "    <tr>\n",
       "      <th>7.893333</th>\n",
       "      <td>0.967781</td>\n",
       "      <td>0.937710</td>\n",
       "      <td>0.958635</td>\n",
       "      <td>0.977059</td>\n",
       "      <td>0.963321</td>\n",
       "      <td>0.983068</td>\n",
       "      <td>0.993933</td>\n",
       "      <td>0.995391</td>\n",
       "      <td>0.951655</td>\n",
       "      <td>0.901408</td>\n",
       "      <td>...</td>\n",
       "      <td>0.975555</td>\n",
       "      <td>0.943025</td>\n",
       "      <td>0.974333</td>\n",
       "      <td>0.992708</td>\n",
       "      <td>0.977082</td>\n",
       "      <td>0.975509</td>\n",
       "      <td>0.976794</td>\n",
       "      <td>0.950587</td>\n",
       "      <td>0.916014</td>\n",
       "      <td>0.960190</td>\n",
       "    </tr>\n",
       "    <tr>\n",
       "      <th>11.840000</th>\n",
       "      <td>0.955148</td>\n",
       "      <td>0.908305</td>\n",
       "      <td>0.948032</td>\n",
       "      <td>0.968297</td>\n",
       "      <td>0.946008</td>\n",
       "      <td>0.977254</td>\n",
       "      <td>0.991794</td>\n",
       "      <td>0.994028</td>\n",
       "      <td>0.928156</td>\n",
       "      <td>0.853350</td>\n",
       "      <td>...</td>\n",
       "      <td>0.965267</td>\n",
       "      <td>0.917123</td>\n",
       "      <td>0.964016</td>\n",
       "      <td>0.990344</td>\n",
       "      <td>0.968010</td>\n",
       "      <td>0.965469</td>\n",
       "      <td>0.966534</td>\n",
       "      <td>0.926599</td>\n",
       "      <td>0.879946</td>\n",
       "      <td>0.942428</td>\n",
       "    </tr>\n",
       "    <tr>\n",
       "      <th>15.786667</th>\n",
       "      <td>0.942514</td>\n",
       "      <td>0.878900</td>\n",
       "      <td>0.937429</td>\n",
       "      <td>0.959535</td>\n",
       "      <td>0.928696</td>\n",
       "      <td>0.971440</td>\n",
       "      <td>0.989654</td>\n",
       "      <td>0.992664</td>\n",
       "      <td>0.904657</td>\n",
       "      <td>0.805291</td>\n",
       "      <td>...</td>\n",
       "      <td>0.954979</td>\n",
       "      <td>0.891222</td>\n",
       "      <td>0.953699</td>\n",
       "      <td>0.987980</td>\n",
       "      <td>0.958938</td>\n",
       "      <td>0.955430</td>\n",
       "      <td>0.956274</td>\n",
       "      <td>0.902612</td>\n",
       "      <td>0.843878</td>\n",
       "      <td>0.924666</td>\n",
       "    </tr>\n",
       "    <tr>\n",
       "      <th>19.733334</th>\n",
       "      <td>0.929881</td>\n",
       "      <td>0.849495</td>\n",
       "      <td>0.926826</td>\n",
       "      <td>0.950773</td>\n",
       "      <td>0.911384</td>\n",
       "      <td>0.965626</td>\n",
       "      <td>0.987515</td>\n",
       "      <td>0.991301</td>\n",
       "      <td>0.881159</td>\n",
       "      <td>0.757233</td>\n",
       "      <td>...</td>\n",
       "      <td>0.944691</td>\n",
       "      <td>0.865320</td>\n",
       "      <td>0.943382</td>\n",
       "      <td>0.985616</td>\n",
       "      <td>0.949866</td>\n",
       "      <td>0.945390</td>\n",
       "      <td>0.946014</td>\n",
       "      <td>0.878624</td>\n",
       "      <td>0.807809</td>\n",
       "      <td>0.906904</td>\n",
       "    </tr>\n",
       "    <tr>\n",
       "      <th>23.680000</th>\n",
       "      <td>0.917248</td>\n",
       "      <td>0.820090</td>\n",
       "      <td>0.916223</td>\n",
       "      <td>0.942011</td>\n",
       "      <td>0.894072</td>\n",
       "      <td>0.959812</td>\n",
       "      <td>0.985375</td>\n",
       "      <td>0.989938</td>\n",
       "      <td>0.857660</td>\n",
       "      <td>0.709175</td>\n",
       "      <td>...</td>\n",
       "      <td>0.934403</td>\n",
       "      <td>0.839419</td>\n",
       "      <td>0.933064</td>\n",
       "      <td>0.983252</td>\n",
       "      <td>0.940793</td>\n",
       "      <td>0.935350</td>\n",
       "      <td>0.935754</td>\n",
       "      <td>0.854637</td>\n",
       "      <td>0.771741</td>\n",
       "      <td>0.889141</td>\n",
       "    </tr>\n",
       "    <tr>\n",
       "      <th>27.626667</th>\n",
       "      <td>0.904615</td>\n",
       "      <td>0.790686</td>\n",
       "      <td>0.905620</td>\n",
       "      <td>0.933249</td>\n",
       "      <td>0.876760</td>\n",
       "      <td>0.953998</td>\n",
       "      <td>0.983236</td>\n",
       "      <td>0.988574</td>\n",
       "      <td>0.834161</td>\n",
       "      <td>0.661116</td>\n",
       "      <td>...</td>\n",
       "      <td>0.924115</td>\n",
       "      <td>0.813517</td>\n",
       "      <td>0.922747</td>\n",
       "      <td>0.980888</td>\n",
       "      <td>0.931721</td>\n",
       "      <td>0.925310</td>\n",
       "      <td>0.925493</td>\n",
       "      <td>0.830649</td>\n",
       "      <td>0.735672</td>\n",
       "      <td>0.871379</td>\n",
       "    </tr>\n",
       "    <tr>\n",
       "      <th>31.573334</th>\n",
       "      <td>0.891981</td>\n",
       "      <td>0.761281</td>\n",
       "      <td>0.895018</td>\n",
       "      <td>0.924487</td>\n",
       "      <td>0.859448</td>\n",
       "      <td>0.948184</td>\n",
       "      <td>0.981097</td>\n",
       "      <td>0.987211</td>\n",
       "      <td>0.810662</td>\n",
       "      <td>0.613058</td>\n",
       "      <td>...</td>\n",
       "      <td>0.913827</td>\n",
       "      <td>0.787615</td>\n",
       "      <td>0.912430</td>\n",
       "      <td>0.978524</td>\n",
       "      <td>0.922649</td>\n",
       "      <td>0.915270</td>\n",
       "      <td>0.915233</td>\n",
       "      <td>0.806662</td>\n",
       "      <td>0.699604</td>\n",
       "      <td>0.853617</td>\n",
       "    </tr>\n",
       "    <tr>\n",
       "      <th>35.520000</th>\n",
       "      <td>0.879348</td>\n",
       "      <td>0.731876</td>\n",
       "      <td>0.884415</td>\n",
       "      <td>0.915725</td>\n",
       "      <td>0.842136</td>\n",
       "      <td>0.942370</td>\n",
       "      <td>0.978957</td>\n",
       "      <td>0.985848</td>\n",
       "      <td>0.787164</td>\n",
       "      <td>0.565000</td>\n",
       "      <td>...</td>\n",
       "      <td>0.903539</td>\n",
       "      <td>0.761714</td>\n",
       "      <td>0.902112</td>\n",
       "      <td>0.976160</td>\n",
       "      <td>0.913577</td>\n",
       "      <td>0.905230</td>\n",
       "      <td>0.904974</td>\n",
       "      <td>0.782674</td>\n",
       "      <td>0.663535</td>\n",
       "      <td>0.835855</td>\n",
       "    </tr>\n",
       "    <tr>\n",
       "      <th>39.466667</th>\n",
       "      <td>0.866715</td>\n",
       "      <td>0.702471</td>\n",
       "      <td>0.873812</td>\n",
       "      <td>0.906963</td>\n",
       "      <td>0.824823</td>\n",
       "      <td>0.936556</td>\n",
       "      <td>0.976818</td>\n",
       "      <td>0.984484</td>\n",
       "      <td>0.763665</td>\n",
       "      <td>0.516941</td>\n",
       "      <td>...</td>\n",
       "      <td>0.893251</td>\n",
       "      <td>0.735812</td>\n",
       "      <td>0.891795</td>\n",
       "      <td>0.973796</td>\n",
       "      <td>0.904505</td>\n",
       "      <td>0.895190</td>\n",
       "      <td>0.894713</td>\n",
       "      <td>0.758687</td>\n",
       "      <td>0.627467</td>\n",
       "      <td>0.818092</td>\n",
       "    </tr>\n",
       "    <tr>\n",
       "      <th>43.413334</th>\n",
       "      <td>0.837380</td>\n",
       "      <td>0.684789</td>\n",
       "      <td>0.857412</td>\n",
       "      <td>0.892482</td>\n",
       "      <td>0.802181</td>\n",
       "      <td>0.921265</td>\n",
       "      <td>0.972166</td>\n",
       "      <td>0.981434</td>\n",
       "      <td>0.723064</td>\n",
       "      <td>0.496069</td>\n",
       "      <td>...</td>\n",
       "      <td>0.883660</td>\n",
       "      <td>0.709258</td>\n",
       "      <td>0.879046</td>\n",
       "      <td>0.964086</td>\n",
       "      <td>0.887811</td>\n",
       "      <td>0.885891</td>\n",
       "      <td>0.874018</td>\n",
       "      <td>0.707950</td>\n",
       "      <td>0.605094</td>\n",
       "      <td>0.796469</td>\n",
       "    </tr>\n",
       "    <tr>\n",
       "      <th>47.360001</th>\n",
       "      <td>0.808046</td>\n",
       "      <td>0.667107</td>\n",
       "      <td>0.841011</td>\n",
       "      <td>0.878001</td>\n",
       "      <td>0.779539</td>\n",
       "      <td>0.905975</td>\n",
       "      <td>0.967515</td>\n",
       "      <td>0.978383</td>\n",
       "      <td>0.682463</td>\n",
       "      <td>0.475197</td>\n",
       "      <td>...</td>\n",
       "      <td>0.874069</td>\n",
       "      <td>0.682704</td>\n",
       "      <td>0.866297</td>\n",
       "      <td>0.954376</td>\n",
       "      <td>0.871116</td>\n",
       "      <td>0.876592</td>\n",
       "      <td>0.853322</td>\n",
       "      <td>0.657214</td>\n",
       "      <td>0.582722</td>\n",
       "      <td>0.774846</td>\n",
       "    </tr>\n",
       "    <tr>\n",
       "      <th>51.306667</th>\n",
       "      <td>0.778711</td>\n",
       "      <td>0.649425</td>\n",
       "      <td>0.824611</td>\n",
       "      <td>0.863521</td>\n",
       "      <td>0.756897</td>\n",
       "      <td>0.890684</td>\n",
       "      <td>0.962863</td>\n",
       "      <td>0.975333</td>\n",
       "      <td>0.641861</td>\n",
       "      <td>0.454325</td>\n",
       "      <td>...</td>\n",
       "      <td>0.864478</td>\n",
       "      <td>0.656150</td>\n",
       "      <td>0.853548</td>\n",
       "      <td>0.944666</td>\n",
       "      <td>0.854422</td>\n",
       "      <td>0.867293</td>\n",
       "      <td>0.832626</td>\n",
       "      <td>0.606477</td>\n",
       "      <td>0.560350</td>\n",
       "      <td>0.753222</td>\n",
       "    </tr>\n",
       "    <tr>\n",
       "      <th>55.253334</th>\n",
       "      <td>0.749376</td>\n",
       "      <td>0.631743</td>\n",
       "      <td>0.808211</td>\n",
       "      <td>0.849040</td>\n",
       "      <td>0.734254</td>\n",
       "      <td>0.875394</td>\n",
       "      <td>0.958212</td>\n",
       "      <td>0.972282</td>\n",
       "      <td>0.601260</td>\n",
       "      <td>0.433452</td>\n",
       "      <td>...</td>\n",
       "      <td>0.854886</td>\n",
       "      <td>0.629597</td>\n",
       "      <td>0.840799</td>\n",
       "      <td>0.934957</td>\n",
       "      <td>0.837728</td>\n",
       "      <td>0.857994</td>\n",
       "      <td>0.811930</td>\n",
       "      <td>0.555740</td>\n",
       "      <td>0.537978</td>\n",
       "      <td>0.731599</td>\n",
       "    </tr>\n",
       "    <tr>\n",
       "      <th>59.200001</th>\n",
       "      <td>0.720042</td>\n",
       "      <td>0.614061</td>\n",
       "      <td>0.791811</td>\n",
       "      <td>0.834560</td>\n",
       "      <td>0.711612</td>\n",
       "      <td>0.860103</td>\n",
       "      <td>0.953560</td>\n",
       "      <td>0.969231</td>\n",
       "      <td>0.560659</td>\n",
       "      <td>0.412580</td>\n",
       "      <td>...</td>\n",
       "      <td>0.845295</td>\n",
       "      <td>0.603043</td>\n",
       "      <td>0.828050</td>\n",
       "      <td>0.925247</td>\n",
       "      <td>0.821034</td>\n",
       "      <td>0.848695</td>\n",
       "      <td>0.791235</td>\n",
       "      <td>0.505004</td>\n",
       "      <td>0.515605</td>\n",
       "      <td>0.709975</td>\n",
       "    </tr>\n",
       "    <tr>\n",
       "      <th>63.146667</th>\n",
       "      <td>0.690707</td>\n",
       "      <td>0.596379</td>\n",
       "      <td>0.775410</td>\n",
       "      <td>0.820079</td>\n",
       "      <td>0.688970</td>\n",
       "      <td>0.844812</td>\n",
       "      <td>0.948909</td>\n",
       "      <td>0.966181</td>\n",
       "      <td>0.520058</td>\n",
       "      <td>0.391708</td>\n",
       "      <td>...</td>\n",
       "      <td>0.835704</td>\n",
       "      <td>0.576489</td>\n",
       "      <td>0.815301</td>\n",
       "      <td>0.915537</td>\n",
       "      <td>0.804340</td>\n",
       "      <td>0.839396</td>\n",
       "      <td>0.770539</td>\n",
       "      <td>0.454267</td>\n",
       "      <td>0.493233</td>\n",
       "      <td>0.688352</td>\n",
       "    </tr>\n",
       "    <tr>\n",
       "      <th>67.093338</th>\n",
       "      <td>0.661373</td>\n",
       "      <td>0.578697</td>\n",
       "      <td>0.759010</td>\n",
       "      <td>0.805599</td>\n",
       "      <td>0.666327</td>\n",
       "      <td>0.829522</td>\n",
       "      <td>0.944257</td>\n",
       "      <td>0.963130</td>\n",
       "      <td>0.479457</td>\n",
       "      <td>0.370836</td>\n",
       "      <td>...</td>\n",
       "      <td>0.826113</td>\n",
       "      <td>0.549935</td>\n",
       "      <td>0.802552</td>\n",
       "      <td>0.905828</td>\n",
       "      <td>0.787646</td>\n",
       "      <td>0.830097</td>\n",
       "      <td>0.749843</td>\n",
       "      <td>0.403531</td>\n",
       "      <td>0.470861</td>\n",
       "      <td>0.666729</td>\n",
       "    </tr>\n",
       "    <tr>\n",
       "      <th>71.040001</th>\n",
       "      <td>0.632038</td>\n",
       "      <td>0.561015</td>\n",
       "      <td>0.742610</td>\n",
       "      <td>0.791118</td>\n",
       "      <td>0.643685</td>\n",
       "      <td>0.814231</td>\n",
       "      <td>0.939605</td>\n",
       "      <td>0.960080</td>\n",
       "      <td>0.438856</td>\n",
       "      <td>0.349964</td>\n",
       "      <td>...</td>\n",
       "      <td>0.816522</td>\n",
       "      <td>0.523381</td>\n",
       "      <td>0.789803</td>\n",
       "      <td>0.896118</td>\n",
       "      <td>0.770952</td>\n",
       "      <td>0.820798</td>\n",
       "      <td>0.729147</td>\n",
       "      <td>0.352794</td>\n",
       "      <td>0.448488</td>\n",
       "      <td>0.645105</td>\n",
       "    </tr>\n",
       "    <tr>\n",
       "      <th>74.986664</th>\n",
       "      <td>0.602703</td>\n",
       "      <td>0.543333</td>\n",
       "      <td>0.726210</td>\n",
       "      <td>0.776638</td>\n",
       "      <td>0.621043</td>\n",
       "      <td>0.798941</td>\n",
       "      <td>0.934954</td>\n",
       "      <td>0.957029</td>\n",
       "      <td>0.398254</td>\n",
       "      <td>0.329091</td>\n",
       "      <td>...</td>\n",
       "      <td>0.806931</td>\n",
       "      <td>0.496827</td>\n",
       "      <td>0.777054</td>\n",
       "      <td>0.886408</td>\n",
       "      <td>0.754257</td>\n",
       "      <td>0.811499</td>\n",
       "      <td>0.708451</td>\n",
       "      <td>0.302058</td>\n",
       "      <td>0.426116</td>\n",
       "      <td>0.623482</td>\n",
       "    </tr>\n",
       "  </tbody>\n",
       "</table>\n",
       "<p>20 rows × 381 columns</p>\n",
       "</div>"
      ]
     },
     "execution_count": 7,
     "metadata": {},
     "output_type": "execute_result"
    }
   ],
   "execution_count": 7
  },
  {
   "cell_type": "markdown",
   "source": [
    "## Build the evaluator.\n",
    "Some arguments includes:\n",
    "1. Training set information (`durations_train` and `events_train`) is optional if you don't need Brier score, integrated Brier score, and L1-margin loss.\n",
    "2. `predicted_time_method` argument indicates whether using median or mean survival time as the predicted time."
   ],
   "metadata": {
    "collapsed": false,
    "pycharm": {
     "name": "#%% md\n"
    }
   }
  },
  {
   "cell_type": "code",
   "source": [
    "eval = PycoxEvaluator(surv, durations_test, events_test, durations_train, events_train, predict_time_method=\"Median\")"
   ],
   "metadata": {
    "collapsed": false,
    "pycharm": {
     "name": "#%%\n"
    },
    "ExecuteTime": {
     "end_time": "2025-02-24T21:09:09.087987Z",
     "start_time": "2025-02-24T21:09:09.085414Z"
    }
   },
   "outputs": [],
   "execution_count": 8
  },
  {
   "cell_type": "markdown",
   "source": [
    "## Make some example plots\n",
    "Plot the survival curves for subject 1, 10 and 100."
   ],
   "metadata": {
    "collapsed": false
   }
  },
  {
   "cell_type": "code",
   "source": [
    "eval.plot_survival_curves([1, 10, 100])"
   ],
   "metadata": {
    "collapsed": false,
    "pycharm": {
     "name": "#%%\n"
    },
    "ExecuteTime": {
     "end_time": "2025-02-24T21:09:12.886490Z",
     "start_time": "2025-02-24T21:09:12.842331Z"
    }
   },
   "outputs": [
    {
     "data": {
      "text/plain": [
       "(<Figure size 640x480 with 1 Axes>,\n",
       " <Axes: xlabel='Time', ylabel='Survival probability'>)"
      ]
     },
     "execution_count": 9,
     "metadata": {},
     "output_type": "execute_result"
    }
   ],
   "execution_count": 9
  },
  {
   "cell_type": "markdown",
   "source": [
    "## Calculate the concordance index.\n",
    "`ties` argument indicates the way ties should be handled.\n",
    "`ties=\"None\"` will throw out all ties in true survival time and all ties in predict survival times (risk scores).\n",
    "`ties=\"Time\"` includes ties in true survival time but removes ties in predict survival times (risk scores).\n",
    "`ties=\"Risk\"` includes ties in predict survival times (risk scores) but not in true survival time.\n",
    "`ties=\"All\"` includes all ties."
   ],
   "metadata": {
    "collapsed": false,
    "pycharm": {
     "name": "#%% md\n"
    }
   }
  },
  {
   "cell_type": "code",
   "source": [
    "cindex, concordant_pairs, total_pairs = eval.concordance(ties=\"None\")\n",
    "print(\"Concordance index is {}, meaning that the model can correctly order {} pairs among {} comparable pairs \"\n",
    "      \"in the testing set.\".format(cindex, concordant_pairs, total_pairs))"
   ],
   "metadata": {
    "collapsed": false,
    "pycharm": {
     "name": "#%%\n"
    },
    "ExecuteTime": {
     "end_time": "2025-02-24T21:09:20.196850Z",
     "start_time": "2025-02-24T21:09:20.186043Z"
    }
   },
   "outputs": [
    {
     "name": "stdout",
     "output_type": "stream",
     "text": [
      "Concordance index is 0.6425452541438806, meaning that the model can correctly order 30314.0 pairs among 47178.0 comparable pairs in the testing set.\n"
     ]
    }
   ],
   "execution_count": 10
  },
  {
   "cell_type": "markdown",
   "source": [
    "## Calculate the Brier score\n",
    "Target time is at time 175."
   ],
   "metadata": {
    "collapsed": false
   }
  },
  {
   "cell_type": "code",
   "source": [
    "bs = eval.brier_score(target_time=175)\n",
    "print(\"Brier score at time 175 is {}.\".format(bs))"
   ],
   "metadata": {
    "collapsed": false,
    "pycharm": {
     "name": "#%%\n"
    },
    "ExecuteTime": {
     "end_time": "2025-02-24T21:09:29.847662Z",
     "start_time": "2025-02-24T21:09:29.808773Z"
    }
   },
   "outputs": [
    {
     "name": "stdout",
     "output_type": "stream",
     "text": [
      "Brier score at time 175 is 0.21308365882553013.\n"
     ]
    }
   ],
   "execution_count": 11
  },
  {
   "cell_type": "markdown",
   "source": [
    "## Calculate the integrated Brier score (IBS)\n",
    "- You can specify the number of points `num_points` to integral. If it is not specify, the default setting will use the censored time points obtained from testing set.\n",
    "- You can also set the `IPCW_weighted` as True or False to calculate the IPCW-weighted IBS or non-weighted IBS. The default setting is True."
   ],
   "metadata": {
    "collapsed": false
   }
  },
  {
   "cell_type": "code",
   "source": [
    "ibs = eval.integrated_brier_score(num_points=None, IPCW_weighted=False, draw_figure=True)\n",
    "print(\"Integrated Brier score is {}.\".format(ibs))"
   ],
   "metadata": {
    "collapsed": false,
    "pycharm": {
     "name": "#%%\n"
    },
    "ExecuteTime": {
     "end_time": "2025-02-24T21:09:34.507722Z",
     "start_time": "2025-02-24T21:09:34.318812Z"
    }
   },
   "outputs": [
    {
     "data": {
      "text/plain": [
       "<Figure size 640x480 with 1 Axes>"
      ],
      "image/png": "[encoded data removed]"
     },
     "metadata": {},
     "output_type": "display_data"
    },
    {
     "name": "stdout",
     "output_type": "stream",
     "text": [
      "Integrated Brier score is 0.10328325101172314.\n"
     ]
    }
   ],
   "execution_count": 12
  },
  {
   "cell_type": "markdown",
   "source": [
    "# Calculate the MAE-Hinge loss\n",
    "You can set `method` as `Hinge`, `Uncensored`, `Margin`, `IPCW-T`, `IPCW-D`, or `Pseudo_obs` for different MAE calculation."
   ],
   "metadata": {
    "collapsed": false
   }
  },
  {
   "cell_type": "code",
   "source": [
    "mae_score = eval.mae(method='Hinge')\n",
    "print(\"MAE-hinge loss is {}.\".format(mae_score))"
   ],
   "metadata": {
    "collapsed": false,
    "pycharm": {
     "name": "#%%\n"
    },
    "ExecuteTime": {
     "end_time": "2025-02-24T21:09:37.961480Z",
     "start_time": "2025-02-24T21:09:37.959044Z"
    }
   },
   "outputs": [
    {
     "name": "stdout",
     "output_type": "stream",
     "text": [
      "MAE-hinge loss is 52.07028398412763.\n"
     ]
    }
   ],
   "execution_count": 13
  },
  {
   "cell_type": "markdown",
   "source": [
    "## Calculate the 1-Calibration\n",
    "Run one calibration test at 50% time of the testing set."
   ],
   "metadata": {
    "collapsed": false
   }
  },
  {
   "cell_type": "code",
   "source": [
    "t_time = round(np.percentile(durations_test, 50))\n",
    "p_value, ob, exp = eval.one_calibration(target_time=t_time, method=\"DN\")\n",
    "if p_value >= 0.05:\n",
    "    print(\"The model is one-calibrated at time {}.\".format(t_time))\n",
    "else:\n",
    "    print(\"The model is not one-calibrated at time {}.\".format(t_time))"
   ],
   "metadata": {
    "collapsed": false,
    "pycharm": {
     "name": "#%%\n"
    },
    "ExecuteTime": {
     "end_time": "2025-02-24T21:09:40.680623Z",
     "start_time": "2025-02-24T21:09:40.633862Z"
    }
   },
   "outputs": [
    {
     "name": "stdout",
     "output_type": "stream",
     "text": [
      "The model is one-calibrated at time 113.\n"
     ]
    }
   ],
   "execution_count": 14
  },
  {
   "cell_type": "markdown",
   "source": [
    "###  Plot the histogram for 1-Calibration.\n",
    "As presented in [Effective Ways to Build and Evaluate Individual Survival Distributions](https://jmlr.csail.mit.edu/papers/v21/18-772.html)"
   ],
   "metadata": {
    "collapsed": false
   }
  },
  {
   "cell_type": "code",
   "source": [
    "# Reverse the bins to let it start from small to large observations\n",
    "ob.reverse()\n",
    "exp.reverse()"
   ],
   "metadata": {
    "collapsed": false,
    "pycharm": {
     "name": "#%%\n"
    },
    "ExecuteTime": {
     "end_time": "2025-02-24T21:09:44.524198Z",
     "start_time": "2025-02-24T21:09:44.522026Z"
    }
   },
   "outputs": [],
   "execution_count": 15
  },
  {
   "cell_type": "code",
   "source": [
    "bins = np.arange(10)\n",
    "plt.bar(bins - 0.15, ob, width=0.3, label=\"Observed\")\n",
    "plt.bar(bins + 0.15, exp, width=0.3, label=\"Expected\")\n",
    "\n",
    "plt.xlabel('Bin')\n",
    "plt.ylabel('Survival Probability')\n",
    "plt.text(0.5, 0.5, r'$p-value = {:.3f}$'.format(p_value), verticalalignment='top', horizontalalignment='left', fontsize=12, color='Black')\n",
    "plt.legend()\n",
    "plt.show()"
   ],
   "metadata": {
    "collapsed": false,
    "pycharm": {
     "name": "#%%\n"
    },
    "ExecuteTime": {
     "end_time": "2025-02-24T21:09:48.174435Z",
     "start_time": "2025-02-24T21:09:48.079306Z"
    }
   },
   "outputs": [
    {
     "data": {
      "text/plain": [
       "<Figure size 640x480 with 1 Axes>"
      ],
      "image/png": "[encoded data removed]"
     },
     "metadata": {},
     "output_type": "display_data"
    }
   ],
   "execution_count": 16
  },
  {
   "cell_type": "markdown",
   "source": [
    "## Calculate the distribution calibration (D-Calibration)"
   ],
   "metadata": {
    "collapsed": false
   }
  },
  {
   "cell_type": "code",
   "source": [
    "p_value_2, bin_statistics = eval.d_calibration()\n",
    "if p_value_2 >= 0.05:\n",
    "    print(\"The model is d-calibrated!\")\n",
    "else:\n",
    "    print(\"The model is not d-calibrated!\")"
   ],
   "metadata": {
    "collapsed": false,
    "pycharm": {
     "name": "#%%\n"
    },
    "ExecuteTime": {
     "end_time": "2025-02-24T21:09:52.602157Z",
     "start_time": "2025-02-24T21:09:52.561148Z"
    }
   },
   "outputs": [
    {
     "name": "stdout",
     "output_type": "stream",
     "text": [
      "The model is d-calibrated!\n"
     ]
    }
   ],
   "execution_count": 17
  },
  {
   "cell_type": "code",
   "source": [
    "# An ideal model should have bin statistics equally distributed. That means 0.1 for each value since we are using 10 bins.\n",
    "bin_statistics /= bin_statistics.sum()\n",
    "bin_statistics"
   ],
   "metadata": {
    "collapsed": false,
    "pycharm": {
     "name": "#%%\n"
    },
    "ExecuteTime": {
     "end_time": "2025-02-24T21:09:55.376994Z",
     "start_time": "2025-02-24T21:09:55.374122Z"
    }
   },
   "outputs": [
    {
     "data": {
      "text/plain": [
       "array([0.08710565, 0.12430747, 0.07196516, 0.09830726, 0.09176001,\n",
       "       0.08667125, 0.09758414, 0.09892774, 0.11810983, 0.12526149])"
      ]
     },
     "execution_count": 18,
     "metadata": {},
     "output_type": "execute_result"
    }
   ],
   "execution_count": 18
  },
  {
   "cell_type": "markdown",
   "source": [
    "### Plot the sideways histogram of D-Calibration\n",
    "As presented in [Effective Ways to Build and Evaluate Individual Survival Distributions](https://jmlr.csail.mit.edu/papers/v21/18-772.html)"
   ],
   "metadata": {
    "collapsed": false
   }
  },
  {
   "cell_type": "code",
   "source": [
    "bars = ('[0.0, 0.1)', '[0.1, 0.2)', '[0.2, 0.3)', '[0.3, 0.4)', '[0.4, 0.5)',\n",
    "        '[0.5, 0.6)', '[0.6, 0.7)', '[0.7, 0.8)', '[0.8, 0.9)', '[0.9, 1.0]')\n",
    "y_pos = np.arange(len(bars))\n",
    "\n",
    "fig, ax = plt.subplots()\n",
    "ax.barh(y_pos, bin_statistics)\n",
    "ax.plot(np.ones(len(bars)+2) * 0.1, np.arange(-1, len(bars)+1),  '--', color=\"black\")\n",
    "ax.invert_yaxis()  # labels read top-to-bottom\n",
    "ax.set_xlabel('Proportion in Bin')\n",
    "ax.set_ylabel('Bins')\n",
    "ax.text(0.14, 0.5, r'$p-value = {:.2f}$'.format(p_value_2), verticalalignment='top', horizontalalignment='right', fontsize=10, color='Black')\n",
    "plt.ylim([-0.8, 9.8])\n",
    "plt.yticks(y_pos, bars)\n",
    "plt.show()"
   ],
   "metadata": {
    "collapsed": false,
    "pycharm": {
     "name": "#%%\n"
    },
    "ExecuteTime": {
     "end_time": "2025-02-24T21:09:58.027146Z",
     "start_time": "2025-02-24T21:09:57.937287Z"
    }
   },
   "outputs": [
    {
     "data": {
      "text/plain": [
       "<Figure size 640x480 with 1 Axes>"
      ],
      "image/png": "[encoded data removed]"
     },
     "metadata": {},
     "output_type": "display_data"
    }
   ],
   "execution_count": 19
  },
  {
   "cell_type": "markdown",
   "source": [
    "### Plot the Q-Q plot of D-Calibration\n",
    "As presented in [Countdown Regression: Sharp and Calibrated Survival Predictions](https://proceedings.mlr.press/v115/avati20a.html) and [Inverse-Weighted Survival Games](https://arxiv.org/abs/2111.08175)"
   ],
   "metadata": {
    "collapsed": false
   }
  },
  {
   "cell_type": "code",
   "source": [
    "default = np.linspace(0, 1, 11)\n",
    "plt.plot(default, default, linestyle='dashed', label=\"x=y\")\n",
    "\n",
    "fraction = np.concatenate((np.array([0]), bin_statistics))\n",
    "plt.plot(default, fraction.cumsum(), 'o-', label=\"LogisticHazard\")\n",
    "\n",
    "plt.xlabel(\"Cumulative Risk\")\n",
    "plt.ylabel(\"Observed Cumulative Fraction\")\n",
    "plt.legend()\n",
    "plt.show()"
   ],
   "metadata": {
    "collapsed": false,
    "pycharm": {
     "name": "#%%\n"
    },
    "ExecuteTime": {
     "end_time": "2025-02-24T21:10:01.215147Z",
     "start_time": "2025-02-24T21:10:01.148676Z"
    }
   },
   "outputs": [
    {
     "data": {
      "text/plain": [
       "<Figure size 640x480 with 1 Axes>"
      ],
      "image/png": "[encoded data removed]"
     },
     "metadata": {},
     "output_type": "display_data"
    }
   ],
   "execution_count": 20
  },
  {
   "cell_type": "code",
   "execution_count": null,
   "outputs": [],
   "source": [],
   "metadata": {
    "collapsed": false,
    "pycharm": {
     "name": "#%%\n"
    }
   }
  }
 ],
 "metadata": {
  "kernelspec": {
   "name": "conditionalcsd",
   "language": "python",
   "display_name": "conditionalCSD"
  },
  "language_info": {
   "codemirror_mode": {
    "name": "ipython",
    "version": 2
   },
   "file_extension": ".py",
   "mimetype": "text/x-python",
   "name": "python",
   "nbconvert_exporter": "python",
   "pygments_lexer": "ipython2",
   "version": "2.7.6"
  }
 },
 "nbformat": 4,
 "nbformat_minor": 0
}
