{
 "cells": [
  {
   "cell_type": "markdown",
   "source": [
    "# Use SurvivalEVAL for PySurvival and auton-survival models\n",
    "\n",
    "In this notebook we introduce the use of `SurvivalEvaluator` in the package to evaluate the performance for a `PySurvival` and [`auton-survival`](https://autonlab.org/auton-survival/) model."
   ],
   "metadata": {
    "collapsed": false
   }
  },
  {
   "cell_type": "markdown",
   "source": [
    "**Note that the `PySurvival` package is no longer maintained and only support until Python 3.7**. Therefore, this evaluation package has deprecated the support for `PySurvival` models. \n",
    "\n",
    "If you are interested in some survival models implemented in the `PySurvival` package, you can find all those models in other packages:\n",
    "- `Cox Proportional Hazard` model: you can use the `lifelines` package or `scikit-survival` package.\n",
    "- Linear and Neural `Multi-task Logistic Regression` models: you can use the [`torchmtlr`](https://github.com/mkazmier/torchmtlr) package. \n",
    "    - Also, the MTLR model in `PySurvival` has problem of convergence (due to the incorrect implementation of the loss function) and the `torchmtlr` package has fixed this problem.\n",
    "- Parametric models (exponential, Weibull, etc): you can use the `lifeline` package.\n",
    "- Survival trees and forests: you can use the `scikit-survival` package.\n",
    "\n",
    "However, if you still prefer to use the `PySurvival` package, this tutorial will guide you through the evaluation process, with the assumption that you have already familiar with the training step for the `PySurvival` package."
   ],
   "metadata": {
    "collapsed": false
   }
  },
  {
   "cell_type": "markdown",
   "source": [
    "In the following, we will:\n",
    "1. Load the GBSG dataset;\n",
    "2. Train the `DeepSurvivalMachines` model;\n",
    "3. Perform evaluation on the 30% testing set.\n",
    "\n",
    "As the `PySurvival` and `auton-survival` models have the similar data structure for the predicted survival curves. If you are using the `PySurvival` package, you can skip the first two steps and directly go to the [third step](#3-perform-evaluation-on-the-testing-set)."
   ],
   "metadata": {
    "collapsed": false
   }
  },
  {
   "cell_type": "markdown",
   "source": [
    "## 1. Load the dataset"
   ],
   "metadata": {
    "collapsed": false
   }
  },
  {
   "cell_type": "code",
   "execution_count": 1,
   "metadata": {
    "collapsed": true,
    "ExecuteTime": {
     "end_time": "2024-03-06T06:04:58.444647Z",
     "start_time": "2024-03-06T06:04:58.051279Z"
    }
   },
   "outputs": [],
   "source": [
    "from lifelines.datasets import load_gbsg2\n",
    "# Load the data and split train/test set\n",
    "gbsg2 = load_gbsg2()\n",
    "gbsg2 = gbsg2.replace({\"horTh\": {\"no\": 0, \"yes\": 1}, \"menostat\": {\"Pre\": 0, \"Post\": 1}, \"tgrade\": {\"I\": 1, \"II\": 2, \"III\": 3}})\n",
    "train, test = gbsg2.iloc[:400, :], gbsg2.iloc[400:, :]\n",
    "\n",
    "x_train, x_test = train.drop([\"time\", \"cens\"], axis=1).astype(float), test.drop([\"time\", \"cens\"], axis=1).astype(float)\n",
    "t_train, t_test = train[\"time\"], test[\"time\"]\n",
    "e_train, e_test = train[\"cens\"], test[\"cens\"]"
   ]
  },
  {
   "cell_type": "markdown",
   "source": [
    "## 2. Train the model"
   ],
   "metadata": {
    "collapsed": false
   }
  },
  {
   "cell_type": "code",
   "outputs": [
    {
     "name": "stderr",
     "output_type": "stream",
     "text": [
      " 21%|██▏       | 2143/10000 [00:01<00:04, 1754.42it/s]\n",
      "100%|██████████| 1/1 [00:00<00:00, 90.47it/s]\n"
     ]
    },
    {
     "data": {
      "text/plain": "<auton_survival.models.dsm.DeepSurvivalMachines at 0x7fa06c410e80>"
     },
     "execution_count": 2,
     "metadata": {},
     "output_type": "execute_result"
    }
   ],
   "source": [
    "from auton_survival import models\n",
    "\n",
    "# Train a Deep Survival Machine (DSM) model\n",
    "model = models.dsm.DeepSurvivalMachines(k=3, layers=[32, 32])\n",
    "model.fit(x_train, t_train, e_train)"
   ],
   "metadata": {
    "collapsed": false,
    "ExecuteTime": {
     "end_time": "2024-03-06T06:05:01.859231Z",
     "start_time": "2024-03-06T06:04:59.714258Z"
    }
   },
   "execution_count": 2
  },
  {
   "cell_type": "markdown",
   "source": [
    "## 3. Perform evaluation on the testing set\n",
    "Let first make the predictions on the testing set. "
   ],
   "metadata": {
    "collapsed": false
   }
  },
  {
   "cell_type": "code",
   "outputs": [],
   "source": [
    "import numpy as np\n",
    "\n",
    "t_max = t_train.max()\n",
    "\n",
    "# make a list of 100 uniform time points from 0 to t_max\n",
    "# Any monotonic increasing time points can be used here\n",
    "time_coordinates = np.linspace(0, t_max, 100).tolist()\n",
    "\n",
    "# make predictions\n",
    "predictions = model.predict_survival(x_test, t=time_coordinates)"
   ],
   "metadata": {
    "collapsed": false,
    "ExecuteTime": {
     "end_time": "2024-03-06T06:05:03.625921Z",
     "start_time": "2024-03-06T06:05:03.606276Z"
    }
   },
   "execution_count": 3
  },
  {
   "cell_type": "markdown",
   "source": [
    "This is for `PySurvival` users, you should build your model and start from here by ignoring the above cells and uncommenting the following lines."
   ],
   "metadata": {
    "collapsed": false
   }
  },
  {
   "cell_type": "code",
   "outputs": [],
   "source": [
    "# survival_curves = model.predict_survival(X, None)\n",
    "# time_coordinates = model.times"
   ],
   "metadata": {
    "collapsed": false,
    "ExecuteTime": {
     "end_time": "2024-03-06T06:05:06.085673Z",
     "start_time": "2024-03-06T06:05:06.083436Z"
    }
   },
   "execution_count": 4
  },
  {
   "cell_type": "code",
   "outputs": [],
   "source": [
    "from Evaluator import SurvivalEvaluator\n",
    "\n",
    "evaler = SurvivalEvaluator(predictions, time_coordinates, t_test, e_test, t_train, e_train)"
   ],
   "metadata": {
    "collapsed": false,
    "ExecuteTime": {
     "end_time": "2024-03-06T06:05:07.351194Z",
     "start_time": "2024-03-06T06:05:07.100045Z"
    }
   },
   "execution_count": 5
  },
  {
   "cell_type": "markdown",
   "source": [
    "The rest of the evaluation process is the same as the other tutorials. \n",
    "\n",
    "For the sake of completeness, we will repeat a brief example of the evaluation process. You can find more details ones in the [PyCox example](https://github.com/shi-ang/SurvivalEVAL/blob/main/Examples/Pycox_Example.ipynb) and [scikit-survival example](https://github.com/shi-ang/SurvivalEVAL/blob/main/Examples/Scikit-survival_Example.ipynb)."
   ],
   "metadata": {
    "collapsed": false
   }
  },
  {
   "cell_type": "markdown",
   "source": [
    "## Calculate the concordance index."
   ],
   "metadata": {
    "collapsed": false
   }
  },
  {
   "cell_type": "code",
   "outputs": [
    {
     "name": "stdout",
     "output_type": "stream",
     "text": [
      "Concordance index is 0.6124070232252189, meaning that the model can correctly order 12103.0 pairs among 19763.0 comparable pairs in the testing set.\n"
     ]
    }
   ],
   "source": [
    "cindex, concordant_pairs, total_pairs = evaler.concordance(ties=\"None\")\n",
    "print(\"Concordance index is {}, meaning that the model can correctly order {} pairs among {} comparable pairs \"\n",
    "      \"in the testing set.\".format(cindex, concordant_pairs, total_pairs))"
   ],
   "metadata": {
    "collapsed": false,
    "ExecuteTime": {
     "end_time": "2024-03-06T06:05:09.280222Z",
     "start_time": "2024-03-06T06:05:09.270309Z"
    }
   },
   "execution_count": 6
  },
  {
   "cell_type": "markdown",
   "source": [
    "Calculate the integrated Brier score (IBS)"
   ],
   "metadata": {
    "collapsed": false
   }
  },
  {
   "cell_type": "code",
   "outputs": [
    {
     "data": {
      "text/plain": "<Figure size 640x480 with 1 Axes>",
      "image/png": "[encoded data removed]"
     },
     "metadata": {},
     "output_type": "display_data"
    },
    {
     "name": "stdout",
     "output_type": "stream",
     "text": [
      "Integrated Brier score is 0.144790156076693.\n"
     ]
    }
   ],
   "source": [
    "ibs = evaler.integrated_brier_score(num_points=None, IPCW_weighted=True, draw_figure=True)\n",
    "print(\"Integrated Brier score is {}.\".format(ibs))"
   ],
   "metadata": {
    "collapsed": false,
    "ExecuteTime": {
     "end_time": "2024-03-06T06:05:11.166007Z",
     "start_time": "2024-03-06T06:05:10.986834Z"
    }
   },
   "execution_count": 7
  },
  {
   "cell_type": "markdown",
   "source": [
    "Calculate the MAE-PO (Pseudo observation) score"
   ],
   "metadata": {
    "collapsed": false
   }
  },
  {
   "cell_type": "code",
   "outputs": [
    {
     "name": "stdout",
     "output_type": "stream",
     "text": [
      "MAE-PO loss is 1273.1081672393984.\n"
     ]
    }
   ],
   "source": [
    "mae_score = evaler.mae(method='Pseudo_obs')\n",
    "print(\"MAE-PO loss is {}.\".format(mae_score))"
   ],
   "metadata": {
    "collapsed": false,
    "ExecuteTime": {
     "end_time": "2024-03-06T06:05:12.946584Z",
     "start_time": "2024-03-06T06:05:12.934167Z"
    }
   },
   "execution_count": 8
  },
  {
   "cell_type": "markdown",
   "source": [
    "Calculate the distribution calibration (D-Calibration)"
   ],
   "metadata": {
    "collapsed": false
   }
  },
  {
   "cell_type": "code",
   "outputs": [
    {
     "name": "stdout",
     "output_type": "stream",
     "text": [
      "The model is not d-calibrated!\n"
     ]
    }
   ],
   "source": [
    "p_value, bin_statistics = evaler.d_calibration()\n",
    "if p_value >= 0.05:\n",
    "    print(\"The model is d-calibrated!\")\n",
    "else:\n",
    "    print(\"The model is not d-calibrated!\")"
   ],
   "metadata": {
    "collapsed": false,
    "ExecuteTime": {
     "end_time": "2024-03-06T06:05:14.300946Z",
     "start_time": "2024-03-06T06:05:14.259027Z"
    }
   },
   "execution_count": 9
  }
 ],
 "metadata": {
  "kernelspec": {
   "display_name": "Python 3",
   "language": "python",
   "name": "python3"
  },
  "language_info": {
   "codemirror_mode": {
    "name": "ipython",
    "version": 2
   },
   "file_extension": ".py",
   "mimetype": "text/x-python",
   "name": "python",
   "nbconvert_exporter": "python",
   "pygments_lexer": "ipython2",
   "version": "2.7.6"
  }
 },
 "nbformat": 4,
 "nbformat_minor": 0
}
