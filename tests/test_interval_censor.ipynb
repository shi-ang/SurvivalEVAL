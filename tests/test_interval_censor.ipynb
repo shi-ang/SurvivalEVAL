{
 "cells": [
  {
   "cell_type": "code",
   "execution_count": 1,
   "id": "4951ac6a-1e97-43de-996d-c14c135b8407",
   "metadata": {
    "tags": []
   },
   "outputs": [
    {
     "name": "stderr",
     "output_type": "stream",
     "text": [
      "/home/weijiesun/anaconda3/envs/SurvivalEVAL/lib/python3.11/site-packages/SurvivalEVAL/Evaluator.py:73: UserWarning: The first time coordinate is not 0. A authentic survival curve should start from 0 with 100% survival probability. Adding 0 to the beginning of the time coordinates and 1 to the beginning of the predicted curves.\n",
      "  warnings.warn(zero_pad_msg)\n"
     ]
    },
    {
     "name": "stdout",
     "output_type": "stream",
     "text": [
      "Successfully initialized the evaluator.\n",
      "The concordance index is 0.49888651272540263.\n",
      "The MAE is 1.9140860303268887.\n",
      "The p-value of the D-Calibration test is 0.0.\n",
      "The IBS is 0.23486649465374945.\n",
      "The Brier score at time 2 is 0.4384085472343544.\n",
      "The one calibration at time 2 is (np.float64(0.0), [np.float64(0.8416658045697618), np.float64(0.9125506477201393), np.float64(0.8604549571934075), np.float64(0.8712028221480657), np.float64(0.8028777459166332), np.float64(0.8006521087096243), np.float64(0.8792878488509428), np.float64(0.8843355258511713), np.float64(0.8749800947415178), np.float64(0.8904143234121934)], [np.float64(0.3033978647319048), np.float64(0.28558829989947854), np.float64(0.27652355887061814), np.float64(0.2692477225953314), np.float64(0.26277640749983067), np.float64(0.2566499589061098), np.float64(0.25043705610898803), np.float64(0.24345396390257626), np.float64(0.2329202779943213), np.float64(0.21381194240284354)]).\n",
      "The AUC at time 2 is 0.4735244776574653.\n"
     ]
    }
   ],
   "source": [
    "import numpy as np\n",
    "\n",
    "np.random.seed(42)\n",
    "# get some synthetic data\n",
    "n_data = 1000\n",
    "n_features = 10\n",
    "event_times = np.random.weibull(a=1, size=n_data).round(1)\n",
    "censoring_times = np.random.lognormal(mean=1, sigma=1, size=n_data).round(1)\n",
    "event_indicators = event_times < censoring_times\n",
    "observed_times = np.minimum(event_times, censoring_times)\n",
    "\n",
    "# get some synthetic predictions\n",
    "n_times = 100\n",
    "time_grid = np.linspace(1, 5, n_times)\n",
    "predictions = np.random.rand(n_data, n_times)\n",
    "# normalize the predictions to sum to 1, meaning the probability mass function\n",
    "pmf = predictions / predictions.sum(axis=1)[:, None]\n",
    "survival_curves = 1 - np.cumsum(pmf, axis=1)\n",
    "predictions_cdf = np.cumsum(pmf, axis=1)\n",
    "\n",
    "from SurvivalEVAL import SurvivalEvaluator\n",
    "\n",
    "# initialize the evaluator\n",
    "evaluator = SurvivalEvaluator(survival_curves, time_grid, observed_times, event_indicators, predict_time_method=\"Mean\")\n",
    "print(\"Successfully initialized the evaluator.\")\n",
    "\n",
    "# calculate the concordance index\n",
    "cindex, _, _ = evaluator.concordance()\n",
    "print(f\"The concordance index is {cindex}.\")\n",
    "\n",
    "# calculate the MAE\n",
    "mae = evaluator.mae(method=\"Hinge\", weighted=False)\n",
    "print(f\"The MAE is {mae}.\")\n",
    "\n",
    "# calculate the d-calibration\n",
    "pvalue, _ = evaluator.d_calibration(num_bins=10)\n",
    "print(f\"The p-value of the D-Calibration test is {pvalue}.\")\n",
    "\n",
    "# calculate the ibs\n",
    "ibs = evaluator.integrated_brier_score(num_points=None, IPCW_weighted=False)\n",
    "print(f\"The IBS is {ibs}.\")\n",
    "\n",
    "# calculate the brier score\n",
    "brier_score = evaluator.brier_score(target_time=2, IPCW_weighted=False)\n",
    "print(f\"The Brier score at time 2 is {brier_score}.\")\n",
    "\n",
    "# calculate the one calibration\n",
    "one_cal = evaluator.one_calibration(target_time=2)\n",
    "print(f\"The one calibration at time 2 is {one_cal}.\")\n",
    "\n",
    "# calculate the AUC\n",
    "auc = evaluator.auc(target_time=2)\n",
    "print(f\"The AUC at time 2 is {auc}.\")"
   ]
  },
  {
   "cell_type": "markdown",
   "id": "f1f72b38-fb02-4020-9546-bd2b382ebdcc",
   "metadata": {
    "tags": []
   },
   "source": [
    "# Test calibration_points_right_censor"
   ]
  },
  {
   "cell_type": "code",
   "execution_count": 2,
   "id": "6ce4809d-b114-4263-89cf-a49fec86a706",
   "metadata": {},
   "outputs": [
    {
     "name": "stdout",
     "output_type": "stream",
     "text": [
      "slope: 1.4696149673286418\n",
      "p_list: [0.1 0.3 0.5 0.7 0.9]\n",
      "obsevation_list: [0.78232044 0.91254315 0.97099768 0.98948598 0.9941452 ]\n"
     ]
    }
   ],
   "source": [
    "from IntervalCensor import calibration_slope_right_censor\n",
    "p_list = (0.1,0.3,0.5,0.7,0.9)\n",
    "p_list, obsevation_list, slope = calibration_slope_right_censor(\n",
    "    event_indicators=event_indicators,     # bool\n",
    "    observed_times=observed_times,    # float\n",
    "    predictions=predictions_cdf,      # (N,T), CDF\n",
    "    time_grid=time_grid,\n",
    "    ps=p_list,\n",
    ")\n",
    "print(\"slope:\", slope)\n",
    "print(\"p_list:\", p_list)\n",
    "print(\"obsevation_list:\", obsevation_list)\n"
   ]
  },
  {
   "cell_type": "markdown",
   "id": "3aba9b4c-bf7e-4f4e-94f7-5fb9af18ab8e",
   "metadata": {},
   "source": [
    "# Test Well calibrated "
   ]
  },
  {
   "cell_type": "code",
   "execution_count": 3,
   "id": "c343a064-4ac2-4493-aa6d-872b69622783",
   "metadata": {},
   "outputs": [
    {
     "name": "stdout",
     "output_type": "stream",
     "text": [
      "slope: 1.0721414563313214\n",
      "p_list: [0.1 0.3 0.5 0.7 0.9]\n",
      "obsevation_list: [0.10673575 0.34541336 0.55395683 0.75665399 0.9423329 ]\n"
     ]
    }
   ],
   "source": [
    "import numpy as np\n",
    "\n",
    "rng = np.random.default_rng(42)\n",
    "n_data = 1000\n",
    "n_features = 10\n",
    "X = rng.normal(size=(n_data, n_features))\n",
    "beta = rng.normal(scale=0.3, size=n_features)    \n",
    "shape_k = 1.3                                    \n",
    "b0 = 0.2\n",
    "lambda_i = np.exp(b0 + X @ beta)\n",
    "U = rng.uniform(size=n_data)\n",
    "event_times = lambda_i * (-np.log(U))**(1.0/shape_k)\n",
    "censoring_times = rng.lognormal(mean=1.0, sigma=1.0, size=n_data)\n",
    "event_indicators = event_times <= censoring_times  \n",
    "observed_times   = np.minimum(event_times, censoring_times)\n",
    "\n",
    "t_max = np.percentile(event_times, 99.5) * 1.5\n",
    "n_times = 200\n",
    "time_grid = np.linspace(0.0, t_max, n_times)\n",
    "tt = time_grid[None, :]                 \n",
    "ratio_k = (tt / lambda_i[:, None])**shape_k\n",
    "predictions_cdf = 1.0 - np.exp(-ratio_k)            \n",
    "predictions_surv = 1.0 - predictions_cdf            \n",
    "\n",
    "p_list = (0.1,0.3,0.5,0.7,0.9)\n",
    "p_list, obsevation_list, slope = calibration_slope_right_censor(\n",
    "    event_indicators=event_indicators,     # bool\n",
    "    observed_times=observed_times,    # float\n",
    "    predictions=predictions_cdf,      # (N,T), CDF\n",
    "    time_grid=time_grid,\n",
    "    ps=p_list,\n",
    ")\n",
    "print(\"slope:\", slope)\n",
    "print(\"p_list:\", p_list)\n",
    "print(\"obsevation_list:\", obsevation_list)\n"
   ]
  },
  {
   "cell_type": "markdown",
   "id": "c7d6c6b1-06f7-49bc-85ef-4ddf59e10c2d",
   "metadata": {},
   "source": [
    "CoV"
   ]
  },
  {
   "cell_type": "code",
   "execution_count": 52,
   "id": "1ca6c21a-3dee-4766-84f7-ac16db58929f",
   "metadata": {},
   "outputs": [
    {
     "name": "stdout",
     "output_type": "stream",
     "text": [
      "CoV: 0.7704234641985749\n"
     ]
    }
   ],
   "source": [
    "from IntervalCensor import cov_from_cdf_grid\n",
    "\n",
    "cov_list = cov_from_cdf_grid(cdf = predictions_cdf, t_grid = time_grid)\n",
    "print ('CoV:', np.nanmean(cov_list))"
   ]
  },
  {
   "cell_type": "markdown",
   "id": "bac4e5fe-c356-4a52-bdcb-9058e269fd8c",
   "metadata": {},
   "source": [
    "SurvAUPRC only for right and uncensor for now"
   ]
  },
  {
   "cell_type": "code",
   "execution_count": 47,
   "id": "a52f5e41-4201-48f2-a358-19e2aa277ca8",
   "metadata": {},
   "outputs": [
    {
     "name": "stdout",
     "output_type": "stream",
     "text": [
      "0.5303564524194402\n"
     ]
    }
   ],
   "source": [
    "from IntervalCensor import survival_auprc_right\n",
    "\n",
    "scores = survival_auprc_right(event_indicators = event_indicators,\n",
    "                              observed_times = observed_times,\n",
    "                              predictions_cdf = predictions_cdf, \n",
    "                              time_grid = time_grid)\n",
    "print (np.mean(scores))"
   ]
  }
 ],
 "metadata": {
  "kernelspec": {
   "display_name": "Python 3 (ipykernel)",
   "language": "python",
   "name": "python3"
  },
  "language_info": {
   "codemirror_mode": {
    "name": "ipython",
    "version": 3
   },
   "file_extension": ".py",
   "mimetype": "text/x-python",
   "name": "python",
   "nbconvert_exporter": "python",
   "pygments_lexer": "ipython3",
   "version": "3.11.0"
  }
 },
 "nbformat": 4,
 "nbformat_minor": 5
}
