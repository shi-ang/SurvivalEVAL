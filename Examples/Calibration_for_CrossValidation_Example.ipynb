{
 "cells": [
  {
   "cell_type": "markdown",
   "source": [
    "# Perform Calibration Measurement for Cross Validated Models\n",
    "\n",
    "In this example, we demonstrate how to perform Calibration measurements (both 1-calibration and D-calibration) for cross validated models.\n",
    "\n",
    "One possible choice could be performing calibration evaluation on each fold and count how many times does the model calibrated.\n",
    "For example, say the D-calibration p-values for 5-fold cross validation are [0.01, 0.10, 0.98, 0.75, 0.25].\n",
    "We can use the threshold of 0.05 to conclude that the model is calibrated 4 times.\n",
    "\n",
    "On the other hand, if one wants to get an overall performance score on the whole dataset, it is not appropriate to average on the p-values over the folds (like we normally compute a mean and standard deviation for concordance or Brier scores).\n",
    "It is because p-values are not designed to be compared (it should only be used to accept or reject the hypothesis).\n",
    "Instead, we can combine the predicted survival curves from all cross-validation folds, and perform the calibration test on the total curves.\n",
    "This method is suggested in section 4.1 at [Haider's JMLR paper]((https://jmlr.org/papers/volume21/18-772/18-772.pdf)).\n",
    "\n",
    "This tutorial will implement the second method described above, which will only result a single p-value at the end."
   ],
   "metadata": {
    "collapsed": false,
    "pycharm": {
     "name": "#%% md\n"
    }
   }
  },
  {
   "metadata": {},
   "cell_type": "code",
   "outputs": [],
   "execution_count": null,
   "source": "!pip install lifelines"
  },
  {
   "cell_type": "code",
   "execution_count": 1,
   "outputs": [],
   "source": [
    "from lifelines import CoxPHFitter\n",
    "from lifelines.datasets import load_rossi\n",
    "\n",
    "from tqdm import tqdm\n",
    "import matplotlib.pyplot as plt\n",
    "import numpy as np\n",
    "import pandas as pd\n",
    "\n",
    "from Evaluator import LifelinesEvaluator\n",
    "from Evaluations.util import stratified_folds_survival"
   ],
   "metadata": {
    "collapsed": false,
    "pycharm": {
     "name": "#%%\n"
    },
    "ExecuteTime": {
     "end_time": "2023-06-08T04:01:25.763724359Z",
     "start_time": "2023-06-08T04:01:24.457524411Z"
    }
   }
  },
  {
   "cell_type": "code",
   "execution_count": 2,
   "outputs": [],
   "source": [
    "%matplotlib inline"
   ],
   "metadata": {
    "collapsed": false,
    "pycharm": {
     "name": "#%%\n"
    },
    "ExecuteTime": {
     "end_time": "2023-06-08T04:41:46.873599338Z",
     "start_time": "2023-06-08T04:41:46.829814759Z"
    }
   }
  },
  {
   "cell_type": "markdown",
   "source": [
    "## Load the dataset."
   ],
   "metadata": {
    "collapsed": false,
    "pycharm": {
     "name": "#%% md\n"
    }
   }
  },
  {
   "cell_type": "code",
   "execution_count": 3,
   "outputs": [],
   "source": [
    "np.random.seed(42)\n",
    "rossi = load_rossi()"
   ],
   "metadata": {
    "collapsed": false,
    "pycharm": {
     "name": "#%%\n"
    },
    "ExecuteTime": {
     "end_time": "2023-06-08T04:41:48.541687042Z",
     "start_time": "2023-06-08T04:41:48.522508701Z"
    }
   }
  },
  {
   "cell_type": "markdown",
   "source": [
    "## Perform 5-fold cross validation on the whole dataset.\n",
    "We divide the folds using customized function so that each fold will have roughly the same distribution of times and censorships.\n",
    "\n",
    "We iteratively concatenate the predicted survival curves in each fold. And we have to do the same thing for event indicators and event times of testing set."
   ],
   "metadata": {
    "collapsed": false,
    "pycharm": {
     "name": "#%% md\n"
    }
   }
  },
  {
   "cell_type": "code",
   "execution_count": 4,
   "outputs": [
    {
     "name": "stderr",
     "output_type": "stream",
     "text": [
      "100%|██████████| 5/5 [00:00<00:00, 30.76it/s]\n"
     ]
    }
   ],
   "source": [
    "total_surv = pd.DataFrame()\n",
    "total_durations = np.empty([0, ])\n",
    "total_events = np.empty([0, ])\n",
    "\n",
    "for data_train, data_test in tqdm(stratified_folds_survival(rossi, rossi.week.values, rossi.arrest.values)):\n",
    "    durations_test = data_test['week'].values\n",
    "    events_test = data_test['arrest'].values.astype('bool')\n",
    "    # Fit the model\n",
    "    cph = CoxPHFitter()\n",
    "    cph.fit(data_train, duration_col='week', event_col='arrest')\n",
    "    survival_curves = cph.predict_survival_function(data_test, list(range(1, 53)))\n",
    "    # Combine the curves\n",
    "    total_surv = pd.concat([total_surv, survival_curves], axis=1)\n",
    "    total_durations = np.concatenate([total_durations, durations_test], axis=0)\n",
    "    total_events = np.concatenate([total_events, events_test], axis=0)"
   ],
   "metadata": {
    "collapsed": false,
    "pycharm": {
     "name": "#%%\n"
    },
    "ExecuteTime": {
     "end_time": "2023-06-08T04:41:50.719179078Z",
     "start_time": "2023-06-08T04:41:50.551789700Z"
    }
   }
  },
  {
   "cell_type": "markdown",
   "source": [
    "## Build the Evaluator.\n",
    "Since none of the calibration measurements need training information, we can omit those and only input survival curves and testing information."
   ],
   "metadata": {
    "collapsed": false,
    "pycharm": {
     "name": "#%% md\n"
    }
   }
  },
  {
   "cell_type": "code",
   "execution_count": 5,
   "outputs": [],
   "source": [
    "eval = LifelinesEvaluator(total_surv, total_durations, total_events)"
   ],
   "metadata": {
    "collapsed": false,
    "pycharm": {
     "name": "#%%\n"
    },
    "ExecuteTime": {
     "end_time": "2023-06-08T04:41:52.281825530Z",
     "start_time": "2023-06-08T04:41:52.275156338Z"
    }
   }
  },
  {
   "cell_type": "markdown",
   "source": [
    "## Run one calibration test at 50% time for the whole data set."
   ],
   "metadata": {
    "collapsed": false
   }
  },
  {
   "cell_type": "code",
   "execution_count": 6,
   "outputs": [
    {
     "data": {
      "text/plain": "<Figure size 640x480 with 0 Axes>"
     },
     "metadata": {},
     "output_type": "display_data"
    },
    {
     "data": {
      "text/plain": "<Figure size 640x480 with 1 Axes>",
      "image/png": "[encoded data removed]"
     },
     "metadata": {},
     "output_type": "display_data"
    },
    {
     "name": "stdout",
     "output_type": "stream",
     "text": [
      "The cross validated model is one-calibrated at time 52.0.\n"
     ]
    }
   ],
   "source": [
    "one_cal_times = np.quantile(rossi['week'], 0.5)\n",
    "\n",
    "p_value, obs_probs, exp_probs = eval.one_calibration(target_time=one_cal_times, method=\"DN\")\n",
    "# Returned probability are ranked from high to low. We want to draw the calibration bar plot from low to high.\n",
    "bins = [10, 9, 8, 7, 6, 5, 4, 3, 2, 1]\n",
    "\n",
    "plt.clf()\n",
    "fig, ax = plt.subplots()\n",
    "bar1 = ax.bar([x - 0.2 for x in bins], obs_probs, width=0.4, color='r', align='center')\n",
    "bar2 = ax.bar([x + 0.2 for x in bins], exp_probs, width=0.4, color='g', align='center')\n",
    "\n",
    "ax.legend((bar1[0], bar2[0]), ('Observed', 'Expected'))\n",
    "plt.ylabel(\"Survival Probability\")\n",
    "plt.xlabel(\"Bin\")\n",
    "plt.show()\n",
    "if p_value >= 0.05:\n",
    "    print(\"The cross validated model is one-calibrated at time {}.\".format(one_cal_times))\n",
    "else:\n",
    "    print(\"The cross validated model is not one-calibrated at time {}.\".format(one_cal_times))"
   ],
   "metadata": {
    "collapsed": false,
    "pycharm": {
     "name": "#%%\n"
    },
    "ExecuteTime": {
     "end_time": "2023-06-08T04:41:54.437576645Z",
     "start_time": "2023-06-08T04:41:54.038452310Z"
    }
   }
  },
  {
   "cell_type": "markdown",
   "source": [
    "## Run d-calibration test at 50% time for the whole data set."
   ],
   "metadata": {
    "collapsed": false
   }
  },
  {
   "cell_type": "code",
   "execution_count": 7,
   "outputs": [
    {
     "data": {
      "text/plain": "<Figure size 640x480 with 0 Axes>"
     },
     "metadata": {},
     "output_type": "display_data"
    },
    {
     "data": {
      "text/plain": "<Figure size 640x480 with 1 Axes>",
      "image/png": "[encoded data removed]"
     },
     "metadata": {},
     "output_type": "display_data"
    },
    {
     "name": "stdout",
     "output_type": "stream",
     "text": [
      "The cross validated model is d-calibrated!\n"
     ]
    }
   ],
   "source": [
    "p_value2, bin_statistics = eval.d_calibration()\n",
    "bins = [\"[0, 0.1)\", \"[0.1, 0.2)\", \"[0.2, 0.3)\", \"[0.3, 0.4)\", \"[0.4, 0.5)\", \"[0.5, 0.6)\", \"[0.6, 0.7)\", \"[0.7, 0.8)\",\n",
    "        \"[0.8, 0.9)\", \"[0.9, 1]\"]\n",
    "plt.clf()\n",
    "fig, ax = plt.subplots()\n",
    "ax.bar(bins, bin_statistics)\n",
    "plt.setp(ax.get_xticklabels(), rotation=30)\n",
    "plt.ylabel(\"Counts in bins\")\n",
    "plt.show()\n",
    "if p_value2 >= 0.05:\n",
    "    print(\"The cross validated model is d-calibrated!\")\n",
    "else:\n",
    "    print(\"The cross validated model is not d-calibrated!\")"
   ],
   "metadata": {
    "collapsed": false,
    "pycharm": {
     "name": "#%%\n"
    },
    "ExecuteTime": {
     "end_time": "2023-06-08T04:41:56.866304432Z",
     "start_time": "2023-06-08T04:41:56.517264685Z"
    }
   }
  },
  {
   "cell_type": "code",
   "execution_count": 7,
   "outputs": [],
   "source": [],
   "metadata": {
    "collapsed": false,
    "pycharm": {
     "name": "#%%\n"
    },
    "ExecuteTime": {
     "end_time": "2023-06-08T04:41:58.065674923Z",
     "start_time": "2023-06-08T04:41:58.060587140Z"
    }
   }
  }
 ],
 "metadata": {
  "kernelspec": {
   "display_name": "Python 3",
   "language": "python",
   "name": "python3"
  },
  "language_info": {
   "codemirror_mode": {
    "name": "ipython",
    "version": 2
   },
   "file_extension": ".py",
   "mimetype": "text/x-python",
   "name": "python",
   "nbconvert_exporter": "python",
   "pygments_lexer": "ipython2",
   "version": "2.7.6"
  }
 },
 "nbformat": 4,
 "nbformat_minor": 0
}
